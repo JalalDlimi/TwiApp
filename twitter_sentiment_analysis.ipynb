{
  "nbformat": 4,
  "nbformat_minor": 0,
  "metadata": {
    "colab": {
      "name": "twitter-sentiment-analysis",
      "version": "0.3.2",
      "provenance": []
    },
    "kernelspec": {
      "name": "python3",
      "display_name": "Python 3"
    }
  },
  "cells": [
    {
      "metadata": {
        "id": "UwEEzz4wQWg1",
        "colab_type": "text"
      },
      "cell_type": "markdown",
      "source": [
        "**Twitter** is a treasure trove of sentiment, people around the world *output thousands of reactions and opinions* on a lot of topics **every second, every day.** We will be using the twitter to analyze millions of texts (**tweet**) in seconds with the power of ML."
      ]
    },
    {
      "metadata": {
        "id": "brm4K6lNTgj6",
        "colab_type": "code",
        "colab": {}
      },
      "cell_type": "code",
      "source": [
        "# Importing libraries\n",
        "\n",
        "import tweepy\n",
        "from textblob import TextBlob\n"
      ],
      "execution_count": 0,
      "outputs": []
    },
    {
      "metadata": {
        "id": "YiXNPU7cZJUM",
        "colab_type": "text"
      },
      "cell_type": "markdown",
      "source": [
        "# A simple demo of textblob before performing sentiment analysis on tweets:"
      ]
    },
    {
      "metadata": {
        "id": "9np9RQc2Y1UB",
        "colab_type": "code",
        "colab": {}
      },
      "cell_type": "code",
      "source": [
        "# a sample of text\n",
        "sentence = TextBlob(\"Jalal is so happy that his code works; happiness is in the air\")\n"
      ],
      "execution_count": 0,
      "outputs": []
    },
    {
      "metadata": {
        "id": "HjK_cD9FZT-U",
        "colab_type": "code",
        "colab": {
          "base_uri": "https://localhost:8080/",
          "height": 238
        },
        "outputId": "b08cda2d-281e-48c8-947d-967c13581377"
      },
      "cell_type": "code",
      "source": [
        "# getting the sentence tags\n",
        "# PS: make sure NLTK is already installed!\n",
        "sentence.tags"
      ],
      "execution_count": 16,
      "outputs": [
        {
          "output_type": "execute_result",
          "data": {
            "text/plain": [
              "[('Jalal', 'NNP'),\n",
              " ('is', 'VBZ'),\n",
              " ('so', 'RB'),\n",
              " ('happy', 'JJ'),\n",
              " ('that', 'IN'),\n",
              " ('his', 'PRP$'),\n",
              " ('code', 'NN'),\n",
              " ('works', 'VBZ'),\n",
              " ('happiness', 'NN'),\n",
              " ('is', 'VBZ'),\n",
              " ('in', 'IN'),\n",
              " ('the', 'DT'),\n",
              " ('air', 'NN')]"
            ]
          },
          "metadata": {
            "tags": []
          },
          "execution_count": 16
        }
      ]
    },
    {
      "metadata": {
        "id": "g_g3LdCdZ7Pv",
        "colab_type": "code",
        "colab": {
          "base_uri": "https://localhost:8080/",
          "height": 34
        },
        "outputId": "ec1ddc38-d41c-41f7-bbd3-3cbbdc3bb421"
      },
      "cell_type": "code",
      "source": [
        "# tokenizing the sentence:\n",
        "sentence.words"
      ],
      "execution_count": 17,
      "outputs": [
        {
          "output_type": "execute_result",
          "data": {
            "text/plain": [
              "WordList(['Jalal', 'is', 'so', 'happy', 'that', 'his', 'code', 'works', 'happiness', 'is', 'in', 'the', 'air'])"
            ]
          },
          "metadata": {
            "tags": []
          },
          "execution_count": 17
        }
      ]
    },
    {
      "metadata": {
        "id": "wkGrZ83daLvZ",
        "colab_type": "code",
        "colab": {
          "base_uri": "https://localhost:8080/",
          "height": 34
        },
        "outputId": "bfab0738-eb21-458b-e9f6-b455f3d731d0"
      },
      "cell_type": "code",
      "source": [
        "# Now, we perform a sentiment analysis on our sentence where we will be getting the polarity of our sentence (-1 <polarity of our sentence <1)\n",
        "sentence.sentiment"
      ],
      "execution_count": 22,
      "outputs": [
        {
          "output_type": "execute_result",
          "data": {
            "text/plain": [
              "Sentiment(polarity=0.75, subjectivity=0.6)"
            ]
          },
          "metadata": {
            "tags": []
          },
          "execution_count": 22
        }
      ]
    },
    {
      "metadata": {
        "id": "jx84Lrl8Z-_m",
        "colab_type": "text"
      },
      "cell_type": "markdown",
      "source": [
        "# Twitter Sentiment Analysis :"
      ]
    },
    {
      "metadata": {
        "id": "TdGpd4f3TwhU",
        "colab_type": "code",
        "colab": {}
      },
      "cell_type": "code",
      "source": [
        "#Authentification using Twitter API\n",
        "\n",
        "consumer_key= 'CONSUMER_KEY_HERE'\n",
        "consumer_secret= 'CONSUMER_SECRET_HERE'\n",
        "\n",
        "access_token='ACCESS_TOKEN_HERE'\n",
        "access_token_secret='ACCESS_TOKEN_SECRET_HERE'\n",
        "\n",
        "auth = tweepy.OAuthHandler(consumer_key, consumer_secret)\n",
        "auth.set_access_token(access_token, access_token_secret)\n",
        "\n",
        "api = tweepy.API(auth)"
      ],
      "execution_count": 0,
      "outputs": []
    },
    {
      "metadata": {
        "id": "llU9AQ3HYmGU",
        "colab_type": "code",
        "colab": {}
      },
      "cell_type": "code",
      "source": [
        "#Getting Tweets that contains a certain word\n",
        "public_tweets = api.search('WORD : WHATEVER YOU WANNA LOOK FOR')"
      ],
      "execution_count": 0,
      "outputs": []
    },
    {
      "metadata": {
        "id": "gyvgMNM9YozT",
        "colab_type": "code",
        "colab": {}
      },
      "cell_type": "code",
      "source": [
        "\n",
        "for tweet in public_tweets:\n",
        "    print(tweet.text) # getting the string version of each tweet\n",
        "    \n",
        "    #Step 4 Perform Sentiment Analysis on Tweets\n",
        "    analysis = TextBlob(tweet.text)\n",
        "    print(analysis.sentiment) # performing sentiment analysis through calculating the polarity of our tweets\n",
        "    print(\"\")\n"
      ],
      "execution_count": 0,
      "outputs": []
    }
  ]
}